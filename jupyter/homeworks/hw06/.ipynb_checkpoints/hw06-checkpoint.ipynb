{
 "cells": [
  {
   "cell_type": "markdown",
   "metadata": {},
   "source": [
    "# Homework 6: Confidence Intervals, Central Limit Theorem, and A/B Testing\n",
    "\n",
    "This assignment is due Friday, June 8 11:59PM. Directly sharing answers is not okay, but discussing problems with other students is encouraged.\n",
    "\n",
    "Reading:\n",
    "- [Confidence intervals](https://www.inferentialthinking.com/chapters/13/3/Confidence_Intervals.html) \n",
    "- [Interpreting confidence intervals](https://www.inferentialthinking.com/chapters/13/4/Using_Confidence_Intervals.html) \n",
    "- [SD and normal curve](https://www.inferentialthinking.com/chapters/14/3/SD_and_the_Normal_Curve.html)\n",
    "- [Central Limit Theorem](https://www.inferentialthinking.com/chapters/14/4/Central_Limit_Theorem.html) \n",
    "- [Choosing a sample size](https://www.inferentialthinking.com/chapters/14/6/Choosing_a_Sample_Size.html)\n",
    "- [A/B testing](https://www.inferentialthinking.com/chapters/12/1/AB_Testing.html)"
   ]
  },
  {
   "cell_type": "markdown",
   "metadata": {},
   "source": [
    "Run the cell below to prepare the notebook and the tests. **Passing the automatic tests does not guarantee full credit on any question.** The tests are provided to help catch some common errors, but it is *your* responsibility to answer the questions correctly."
   ]
  },
  {
   "cell_type": "code",
   "execution_count": 2,
   "metadata": {},
   "outputs": [
    {
     "name": "stdout",
     "output_type": "stream",
     "text": [
      "=====================================================================\n",
      "Assignment: Homework 6: Confidence Intervals, Central Limit Theorem, and A/B Testing\n",
      "OK, version v1.14.20\n",
      "=====================================================================\n",
      "\n",
      "Successfully logged in as A01226922@itesm.mx\n"
     ]
    }
   ],
   "source": [
    "# Don't change this cell; just run it. \n",
    "\n",
    "import numpy as np\n",
    "from datascience import *\n",
    "\n",
    "%matplotlib inline\n",
    "import matplotlib.pyplot as plots\n",
    "plots.style.use('fivethirtyeight')\n",
    "\n",
    "from client.api.notebook import Notebook\n",
    "ok = Notebook('hw06.ok')\n",
    "_ = ok.auth(inline=True)"
   ]
  },
  {
   "cell_type": "markdown",
   "metadata": {},
   "source": [
    "Once you're finished, select \"Save and Checkpoint\" in the File menu and then execute the `submit` cell below. The result will contain a link that you can use to check that your assignment has been submitted successfully. If you submit more than once before the deadline, we will only grade your final submission."
   ]
  },
  {
   "cell_type": "code",
   "execution_count": null,
   "metadata": {},
   "outputs": [
    {
     "data": {
      "application/javascript": [
       "IPython.notebook.save_checkpoint();"
      ],
      "text/plain": [
       "<IPython.core.display.Javascript object>"
      ]
     },
     "metadata": {},
     "output_type": "display_data"
    }
   ],
   "source": [
    "_ = ok.submit()"
   ]
  },
  {
   "cell_type": "markdown",
   "metadata": {},
   "source": [
    "## 1. Plot the Vote\n"
   ]
  },
  {
   "cell_type": "markdown",
   "metadata": {},
   "source": [
    "Four candidates are running for President of Dataland. A polling company surveys 1000 people selected uniformly at random from among voters in Dataland, and it asks each one who they are planning on voting for. After compiling the results, the polling company releases the following proportions from their sample:\n",
    "\n",
    "|Candidate  | Proportion|\n",
    "|:------------:|:------------:|\n",
    "|Candidate C | 0.47 |\n",
    "|Candidate T | 0.38 |\n",
    "|Candidate J | 0.08 |\n",
    "|Candidate S | 0.03 |\n",
    "|Undecided   | 0.04 |\n",
    "\n",
    "These proportions represent a uniform random sample of the population of Dataland. We will attempt to estimate the corresponding *population parameters* - the proportions of each kind of voter in the entire population.  We will use confidence intervals to compute a range of values that reflects the uncertainty of our estimate.\n",
    "\n",
    "The table `voters` contains the results of the survey. Candidates are represented by their initials. Undecided voters are denoted by `U`."
   ]
  },
  {
   "cell_type": "code",
   "execution_count": 2,
   "metadata": {},
   "outputs": [
    {
     "data": {
      "text/html": [
       "<table border=\"1\" class=\"dataframe\">\n",
       "    <thead>\n",
       "        <tr>\n",
       "            <th>vote</th>\n",
       "        </tr>\n",
       "    </thead>\n",
       "    <tbody>\n",
       "        <tr>\n",
       "            <td>C   </td>\n",
       "        </tr>\n",
       "        <tr>\n",
       "            <td>C   </td>\n",
       "        </tr>\n",
       "        <tr>\n",
       "            <td>C   </td>\n",
       "        </tr>\n",
       "        <tr>\n",
       "            <td>J   </td>\n",
       "        </tr>\n",
       "        <tr>\n",
       "            <td>T   </td>\n",
       "        </tr>\n",
       "        <tr>\n",
       "            <td>T   </td>\n",
       "        </tr>\n",
       "        <tr>\n",
       "            <td>T   </td>\n",
       "        </tr>\n",
       "        <tr>\n",
       "            <td>C   </td>\n",
       "        </tr>\n",
       "        <tr>\n",
       "            <td>C   </td>\n",
       "        </tr>\n",
       "        <tr>\n",
       "            <td>J   </td>\n",
       "        </tr>\n",
       "    </tbody>\n",
       "</table>\n",
       "<p>... (990 rows omitted)</p>"
      ],
      "text/plain": [
       "vote\n",
       "C\n",
       "C\n",
       "C\n",
       "J\n",
       "T\n",
       "T\n",
       "T\n",
       "C\n",
       "C\n",
       "J\n",
       "... (990 rows omitted)"
      ]
     },
     "execution_count": 2,
     "metadata": {},
     "output_type": "execute_result"
    }
   ],
   "source": [
    "votes = Table().with_column('vote', np.array(['C']*470 + ['T']*380 + ['J']*80 + ['S']*30 + ['U']*40))\n",
    "num_votes = votes.num_rows\n",
    "votes.sample()"
   ]
  },
  {
   "cell_type": "markdown",
   "metadata": {},
   "source": [
    "Below, we have give you code that will use bootstrapped samples to compute estimates of the true proportion of voters who are planning on voting for **Candidate C**."
   ]
  },
  {
   "cell_type": "code",
   "execution_count": 3,
   "metadata": {},
   "outputs": [
    {
     "data": {
      "image/png": "[encoded data removed]",
      "text/plain": [
       "<Figure size 432x288 with 1 Axes>"
      ]
     },
     "metadata": {},
     "output_type": "display_data"
    }
   ],
   "source": [
    "def proportions_in_resamples():\n",
    "    statistics = make_array()\n",
    "    for i in np.arange(5000):\n",
    "        bootstrap = votes.sample()\n",
    "        sample_statistic = np.count_nonzero(bootstrap.column('vote') == 'C')/num_votes\n",
    "        statistics = np.append(statistics, sample_statistic)\n",
    "    return statistics\n",
    "\n",
    "sampled_proportions = proportions_in_resamples()\n",
    "Table().with_column('Estimated Proportion', sampled_proportions).hist(bins=np.arange(0.2,0.6,0.01))"
   ]
  },
  {
   "cell_type": "markdown",
   "metadata": {},
   "source": [
    "**Question 1.** Using the array `sampled_proportions`, compute an approximate 95% confidence interval for the true proportions of voters planning on voting for candidate C.  (Compute the lower and upper ends of the interval, named `lower_bound` and `upper_bound`, respectively.)"
   ]
  },
  {
   "cell_type": "code",
   "execution_count": 4,
   "metadata": {},
   "outputs": [
    {
     "name": "stdout",
     "output_type": "stream",
     "text": [
      "Bootstrapped 95% confidence interval for the proportion of C voters in the population: [0.438000, 0.501000]\n"
     ]
    }
   ],
   "source": [
    "c_lower_bound = percentile(2.5,sampled_proportions)\n",
    "c_upper_bound = percentile(97.5, sampled_proportions)\n",
    "print(\"Bootstrapped 95% confidence interval for the proportion of C voters in the population: [{:f}, {:f}]\".format(c_lower_bound, c_upper_bound))"
   ]
  },
  {
   "cell_type": "code",
   "execution_count": 5,
   "metadata": {},
   "outputs": [
    {
     "name": "stdout",
     "output_type": "stream",
     "text": [
      "~~~~~~~~~~~~~~~~~~~~~~~~~~~~~~~~~~~~~~~~~~~~~~~~~~~~~~~~~~~~~~~~~~~~~\n",
      "Running tests\n",
      "\n",
      "---------------------------------------------------------------------\n",
      "Test summary\n",
      "    Passed: 1\n",
      "    Failed: 0\n",
      "[ooooooooook] 100.0% passed\n",
      "\n"
     ]
    }
   ],
   "source": [
    "_ = ok.grade('q1_1')"
   ]
  },
  {
   "cell_type": "markdown",
   "metadata": {},
   "source": [
    "**Question 2.** The survey results seem to indicate that Candidate C is beating Candidate T among voters. We would like to use CI's to determine a range of likely values for her true *lead*. Candidate C's lead over Candidate T is:\n",
    "\n",
    "$$\\text{Candidate C's proportion of the vote} - \\text{Candidate T's proportion of the vote}.$$\n",
    "\n",
    "Using the function `proportions_in_resamples` above as a model, use the bootstrap to compute an approximate distribution for Candidate C's lead over Candidate T. Plot a histogram of the the resulting samples."
   ]
  },
  {
   "cell_type": "code",
   "execution_count": 7,
   "metadata": {
    "for_assignment_type": "student",
    "manual_problem_id": "election_2"
   },
   "outputs": [
    {
     "data": {
      "image/png": "[encoded data removed]",
      "text/plain": [
       "<Figure size 432x288 with 1 Axes>"
      ]
     },
     "metadata": {},
     "output_type": "display_data"
    }
   ],
   "source": [
    "bins = bins=np.arange(-0.2,0.2,0.01)\n",
    "\n",
    "def leads_in_resamples():\n",
    "    statistics = make_array()\n",
    "    for i in np.arange(5000):\n",
    "        bootstrap = votes.sample()\n",
    "        proportion_c = np.count_nonzero(bootstrap.column(\"vote\")== \"C\")/num_votes\n",
    "        proportion_t = np.count_nonzero(bootstrap.column(\"vote\")== \"T\")/num_votes\n",
    "        diffs = proportion_c - proportion_t\n",
    "        statistics = np.append(statistics,diffs)\n",
    "    return statistics\n",
    "\n",
    "sampled_leads = leads_in_resamples()\n",
    "Table().with_column(\"Estimated Lead\",sampled_leads).hist(bins=bins)"
   ]
  },
  {
   "cell_type": "code",
   "execution_count": 8,
   "metadata": {},
   "outputs": [
    {
     "name": "stdout",
     "output_type": "stream",
     "text": [
      "Bootstrapped 95% confidence interval for Candidate C's true lead over Candidate T: [0.031000, 0.146000]\n"
     ]
    }
   ],
   "source": [
    "diff_lower_bound = percentile(2.5, sampled_leads)\n",
    "diff_upper_bound = percentile(97.5, sampled_leads)\n",
    "print(\"Bootstrapped 95% confidence interval for Candidate C's true lead over Candidate T: [{:f}, {:f}]\".format(diff_lower_bound, diff_upper_bound))"
   ]
  },
  {
   "cell_type": "code",
   "execution_count": 9,
   "metadata": {},
   "outputs": [
    {
     "name": "stdout",
     "output_type": "stream",
     "text": [
      "~~~~~~~~~~~~~~~~~~~~~~~~~~~~~~~~~~~~~~~~~~~~~~~~~~~~~~~~~~~~~~~~~~~~~\n",
      "Running tests\n",
      "\n",
      "---------------------------------------------------------------------\n",
      "Test summary\n",
      "    Passed: 1\n",
      "    Failed: 0\n",
      "[ooooooooook] 100.0% passed\n",
      "\n"
     ]
    }
   ],
   "source": [
    "_ = ok.grade('q1_3')"
   ]
  },
  {
   "cell_type": "markdown",
   "metadata": {},
   "source": [
    "## 2. Interpreting Confidence Intervals\n"
   ]
  },
  {
   "cell_type": "markdown",
   "metadata": {},
   "source": [
    "The staff computed the following 95% confidence interval for the proportion of Candidate C voters: \n",
    "\n",
    "$$[.439, .5]$$\n",
    "\n",
    "(Your answer might have been different; that doesn't mean it was wrong.)"
   ]
  },
  {
   "cell_type": "markdown",
   "metadata": {},
   "source": [
    "#### Question 1\n",
    "Can we say that 95% of the population lies in the range $[.439, .5]$? Explain your answer. "
   ]
  },
  {
   "cell_type": "markdown",
   "metadata": {
    "manual_problem_id": "interpreting_1"
   },
   "source": [
    "No, the proportion of Candidate C voters is not the one being tested."
   ]
  },
  {
   "cell_type": "markdown",
   "metadata": {},
   "source": [
    "#### Question 2\n",
    "Can we say that there is a 95% probability that the interval [.439, .5] contains the true proportion of the population who is voting for Candidate C? Explain your answer."
   ]
  },
  {
   "cell_type": "markdown",
   "metadata": {
    "manual_problem_id": "interpreting_2"
   },
   "source": [
    "Yes, since the population being tested is the candidates votes \n",
    "\n",
    "\n",
    "\n",
    "**The following is outside of the scope of this class. If you don't already know what Bayesian and Frequentist reasoning are, don't worry about it!**\n",
    "(You may recall that there are different philosophical interpretation of probability. The Bayesian interpretation says that it *is* meaningful to talk about the probability that the interval covers the true proportion, but a Bayesian would perform a different calculation to calculate that number; we have no guarantee that it is 95%. All we are guaranteed is the statement in the answer to the next question.)"
   ]
  },
  {
   "cell_type": "markdown",
   "metadata": {},
   "source": [
    "#### Question 3\n",
    "Suppose we produced 10,000 new samples (each one a uniform random sample of 1,000 voters) and created a 95% confidence interval from each one. Roughly how many of those 10,000 intervals do you expect will actually contain the true proportion of the population?"
   ]
  },
  {
   "cell_type": "markdown",
   "metadata": {
    "manual_problem_id": "interpreting_3"
   },
   "source": [
    "9,500"
   ]
  },
  {
   "cell_type": "markdown",
   "metadata": {},
   "source": [
    "**Question 4**\n",
    "\n",
    "The staff also created 80%, 90%, and 99% confidence intervals from one sample, but we forgot to label which confidence interval represented which percentages! Match the interval to the percent of confidence the interval represents. (Write the percentage after each interval below.) **Then**, explain your thought process."
   ]
  },
  {
   "cell_type": "markdown",
   "metadata": {
    "manual_problem_id": "interpreting_4"
   },
   "source": [
    "**Answers:**\n",
    "\n",
    "$[.444,.495]$: 80% confidence interval assuming the distribution is normal.\n",
    "\n",
    "$[.45,.49]$: 90% confidence interval, a little past the 80% interval.\n",
    "\n",
    "$[.43,.511]$: 99% confidence interval, covering a large range past 2 SD."
   ]
  },
  {
   "cell_type": "markdown",
   "metadata": {},
   "source": [
    "#### Question 5\n",
    "\n",
    "Recall the second bootstrap confidence interval you created, estimating Candidate C's lead over Candidate T. Among voters in the sample, her lead was .09. The staff's 95% confidence interval for her true lead (in the population of all voters) was\n",
    "\n",
    "$$[.032,.15].$$\n",
    "\n",
    "Suppose we are interested in testing a simple yes-or-no question:\n",
    "\n",
    "> \"Are the candidates tied?\"\n",
    "\n",
    "Our null hypothesis is that the proportions are equal, or, equivalently, that Candidate C's lead is exactly 0. Our alternative hypothesis is that her lead is not equal to 0.  In the questions below, don't compute any confidence interval yourself - use only the staff's 95% confidence interval.\n",
    "\n",
    "\n",
    "**Question:** Say we use a 5% P-value cutoff.  Do we reject the null, fail to reject the null, or are we unable to tell using our confidence interval?"
   ]
  },
  {
   "cell_type": "markdown",
   "metadata": {
    "collapsed": true,
    "manual_problem_id": "interpreting_5"
   },
   "source": [
    "We  reject the null."
   ]
  },
  {
   "cell_type": "markdown",
   "metadata": {},
   "source": [
    "#### Question 6\n",
    "What if, instead, we use a P-value cutoff of 1%? Do we reject the null, fail to reject the null, or are we unable to tell using our confidence interval?"
   ]
  },
  {
   "cell_type": "markdown",
   "metadata": {
    "collapsed": true,
    "manual_problem_id": "interpreting_6"
   },
   "source": [
    "We are unable to tell."
   ]
  },
  {
   "cell_type": "markdown",
   "metadata": {},
   "source": [
    "#### Question 7\n",
    "What if we use a P-value cutoff of 10%? Do we reject, fail to reject, or are we unable to tell using our confidence interval?"
   ]
  },
  {
   "cell_type": "markdown",
   "metadata": {
    "manual_problem_id": "interpreting_7"
   },
   "source": [
    "We reject the null."
   ]
  },
  {
   "cell_type": "markdown",
   "metadata": {},
   "source": [
    "## 3. Testing the Central Limit Theorem\n"
   ]
  },
  {
   "cell_type": "markdown",
   "metadata": {},
   "source": [
    "The Central Limit Theorem tells us that the probability distribution of the sum or average of a large random sample drawn with replacement will be roughly normal, *regardless of the distribution of the population from which the sample is drawn*.\n",
    "\n",
    "That's a pretty big claim, but the theorem doesn't stop there. It further states that the standard deviation of this normal distribution is given by $$\\frac{\\texttt{sd of the original distribution}}{\\sqrt{\\texttt{sample size}}}$$ In other words, suppose we start with *any distribution* that has standard deviation $x$, take a sample of size $n$ (where $n$ is a large number) from that distribution with replacement, and compute the mean of that sample. If we repeat this procedure many times, then those sample means will have a normal distribution with standard deviation $\\frac{x}{\\sqrt{n}}$.\n",
    "\n",
    "That's an even bigger claim than the first one! The proof of the theorem is beyond the scope of this class, but in this exercise, we will be exploring some data to see the CLT in action."
   ]
  },
  {
   "cell_type": "markdown",
   "metadata": {},
   "source": [
    "<div class=\"hide\">\\pagebreak</div>\n",
    "**Question 1.** The CLT only applies when sample sizes are \"sufficiently large.\" This isn't a very precise statement. Is 10 large?  How about 50?  The truth is that it depends both on the original population distribution and just how \"normal\" you want the result to look. Let's use a simulation to get a feel for how the distribution of the sample mean changes as sample size goes up.\n",
    "\n",
    "Consider a coin flip. If we say `Heads` is $1$ and `Tails` is $0$, then there's a 50% chance of getting a 1 and a 50% chance of getting a 0, which is definitely not a normal distribution.  The average of several coin tosses is equal to the proportion of heads in those coin tosses, so the CLT should apply if we compute the sample proportion of heads many times.\n",
    "\n",
    "Write a function called `simulate_sample_n` that takes in a sample size $n$. It should return an array that contains 5000 sample proportions of heads, each from $n$ coin flips."
   ]
  },
  {
   "cell_type": "code",
   "execution_count": 13,
   "metadata": {},
   "outputs": [
    {
     "data": {
      "text/plain": [
       "array([0.2, 0.4, 0.2, ..., 0.4, 0.6, 0.6])"
      ]
     },
     "execution_count": 13,
     "metadata": {},
     "output_type": "execute_result"
    }
   ],
   "source": [
    "def sample_size_n(n):\n",
    "    coin = make_array(0, 1)\n",
    "    sample_proportions = make_array()\n",
    "    for i in np.arange(5000):\n",
    "        # An array of the results of n coin flips (0s and 1s):\n",
    "        flips = np.random.choice(coin, n)\n",
    "        sample_proportion = np.count_nonzero(flips==0)/n\n",
    "        sample_proportions = np.append(sample_proportions, sample_proportion)\n",
    "    return sample_proportions\n",
    "\n",
    "sample_size_n(5)"
   ]
  },
  {
   "cell_type": "markdown",
   "metadata": {},
   "source": [
    "<div class=\"hide\">\\pagebreak</div>\n",
    "The code below will use the function you just defined to plot the empirical distribution of the sample mean for various sample sizes. Drag the slider or click on the number to the right to type in a sample size of your choice. The x- and y-scales are kept the same to facilitate comparisons. "
   ]
  },
  {
   "cell_type": "code",
   "execution_count": 14,
   "metadata": {
    "scrolled": false
   },
   "outputs": [
    {
     "name": "stdout",
     "output_type": "stream",
     "text": [
      "Sample SD: 0.03545628858185809\n"
     ]
    },
    {
     "data": {
      "image/png": "[encoded data removed]",
      "text/plain": [
       "<Figure size 432x288 with 1 Axes>"
      ]
     },
     "metadata": {},
     "output_type": "display_data"
    }
   ],
   "source": [
    "# Just run this cell\n",
    "from ipywidgets import interact\n",
    "\n",
    "def outer(f):\n",
    "    def graph(x):\n",
    "        bins = np.arange(-0.01,1.05,0.02)\n",
    "        sample_proportions = f(x)\n",
    "        Table().with_column('Sample Size: {}'.format(x), sample_proportions).hist(bins=bins)\n",
    "        plots.ylim(0, 30)\n",
    "        print('Sample SD:', np.std(sample_proportions))\n",
    "        plots.show()\n",
    "    return graph\n",
    "    \n",
    "interact(outer(sample_size_n), x=(0, 400, 1), continuous_update=False);\n",
    "\n",
    "# Notice the shape of the graph as the sample size increases and decreases.\n",
    "# Min sample size is 0, max is 400\n",
    "# The graph will refresh a few times when you drag the slider around"
   ]
  },
  {
   "cell_type": "markdown",
   "metadata": {},
   "source": [
    "You can see that even the means of samples of 10 items follow a roughly bell-shaped distribution.  A sample of 50 items looks quite bell-shaped."
   ]
  },
  {
   "cell_type": "markdown",
   "metadata": {
    "manual_problem_id": "clt_2"
   },
   "source": [
    "<div class=\"hide\">\\pagebreak</div>\n",
    "**Question 2:** In the plot for a sample size of 10, why are the bars spaced at intervals of .1, with gaps in between?"
   ]
  },
  {
   "cell_type": "markdown",
   "metadata": {
    "manual_problem_id": "clt_2"
   },
   "source": [
    "The intervals  are obtained from dividing by the sample size."
   ]
  },
  {
   "cell_type": "markdown",
   "metadata": {},
   "source": [
    "<div class=\"hide\">\\pagebreak</div>\n",
    "Now we will test the second claim of the CLT: That the SD of the sample mean is the SD of the original distribution, divided by the square root of the sample size.\n",
    "\n",
    "We have imported the flight delay data and computed its standard deviation for you."
   ]
  },
  {
   "cell_type": "code",
   "execution_count": 15,
   "metadata": {},
   "outputs": [
    {
     "data": {
      "text/plain": [
       "39.480199851609314"
      ]
     },
     "execution_count": 15,
     "metadata": {},
     "output_type": "execute_result"
    }
   ],
   "source": [
    "united = Table.read_table('united_summer2015.csv')\n",
    "united_std = np.std(united.column('Delay'))\n",
    "united_std"
   ]
  },
  {
   "cell_type": "markdown",
   "metadata": {},
   "source": [
    "<div class=\"hide\">\\pagebreak</div>\n",
    "**Question 3:** Write a function called `predict_sd`.  It takes a sample size `n` (a number) as its argument.  It returns the predicted standard deviation of the mean for samples of size `n` from the flight delays."
   ]
  },
  {
   "cell_type": "code",
   "execution_count": 71,
   "metadata": {},
   "outputs": [
    {
     "data": {
      "text/plain": [
       "12.484735400972708"
      ]
     },
     "execution_count": 71,
     "metadata": {},
     "output_type": "execute_result"
    }
   ],
   "source": [
    "def predict_sd(n):\n",
    "    return united_std / n**0.5\n",
    "\n",
    "predict_sd(10)"
   ]
  },
  {
   "cell_type": "code",
   "execution_count": 72,
   "metadata": {},
   "outputs": [
    {
     "name": "stdout",
     "output_type": "stream",
     "text": [
      "~~~~~~~~~~~~~~~~~~~~~~~~~~~~~~~~~~~~~~~~~~~~~~~~~~~~~~~~~~~~~~~~~~~~~\n",
      "Running tests\n",
      "\n",
      "---------------------------------------------------------------------\n",
      "Test summary\n",
      "    Passed: 1\n",
      "    Failed: 0\n",
      "[ooooooooook] 100.0% passed\n",
      "\n"
     ]
    }
   ],
   "source": [
    "_ = ok.grade('q3_3')"
   ]
  },
  {
   "cell_type": "markdown",
   "metadata": {},
   "source": [
    "<div class=\"hide\">\\pagebreak</div>\n",
    "**Question 4:** Write a function called `empirical_sd` that takes a sample size `n` as its argument. The function should simulate 500 samples of size `n` from the flight delays dataset, and it should return the standard deviation of the **means of those 500 samples**.\n",
    "\n",
    "*Hint:* This function will be similar to the `sample_size_n` function you wrote earlier."
   ]
  },
  {
   "cell_type": "code",
   "execution_count": 16,
   "metadata": {},
   "outputs": [
    {
     "data": {
      "text/plain": [
       "11.533455066024231"
      ]
     },
     "execution_count": 16,
     "metadata": {},
     "output_type": "execute_result"
    }
   ],
   "source": [
    "def empirical_sd(n):\n",
    "    sample_means = make_array()\n",
    "    for i in np.arange(500):\n",
    "        sample = united.sample(n).column(\"Delay\")\n",
    "        sample_mean = np.mean(sample)\n",
    "        sample_means = np.append(sample_means,sample_mean)\n",
    "    return np.std(sample_means)\n",
    "\n",
    "empirical_sd(10)"
   ]
  },
  {
   "cell_type": "code",
   "execution_count": 17,
   "metadata": {},
   "outputs": [
    {
     "name": "stdout",
     "output_type": "stream",
     "text": [
      "~~~~~~~~~~~~~~~~~~~~~~~~~~~~~~~~~~~~~~~~~~~~~~~~~~~~~~~~~~~~~~~~~~~~~\n",
      "Running tests\n",
      "\n",
      "---------------------------------------------------------------------\n",
      "Test summary\n",
      "    Passed: 1\n",
      "    Failed: 0\n",
      "[ooooooooook] 100.0% passed\n",
      "\n"
     ]
    }
   ],
   "source": [
    "_ = ok.grade('q3_4')"
   ]
  },
  {
   "cell_type": "markdown",
   "metadata": {},
   "source": [
    "<div class=\"hide\">\\pagebreak</div>\n",
    "The cell below will plot the predicted and empirical SDs for the delay data for various sample sizes."
   ]
  },
  {
   "cell_type": "code",
   "execution_count": 26,
   "metadata": {},
   "outputs": [
    {
     "data": {
      "image/png": "[encoded data removed]",
      "text/plain": [
       "<Figure size 360x360 with 1 Axes>"
      ]
     },
     "metadata": {},
     "output_type": "display_data"
    }
   ],
   "source": [
    "sd_table = Table().with_column('Sample Size', np.arange(1,101))\n",
    "predicted = sd_table.apply(predict_sd, 'Sample Size')\n",
    "empirical = sd_table.apply(empirical_sd, 'Sample Size')\n",
    "sd_table = sd_table.with_columns('Predicted SD', predicted, 'Empirical SD', empirical)\n",
    "sd_table.scatter('Sample Size')"
   ]
  },
  {
   "cell_type": "markdown",
   "metadata": {},
   "source": [
    "<div class=\"hide\">\\pagebreak</div>\n",
    "**Question 5:** The empirical SDs are very close to the predicted SDs, but they're not exactly the same.  Why?"
   ]
  },
  {
   "cell_type": "markdown",
   "metadata": {
    "manual_problem_id": "clt_5"
   },
   "source": [
    "A larger sample size is needed as the CLT states."
   ]
  },
  {
   "cell_type": "markdown",
   "metadata": {},
   "source": [
    "## 4. Polling and the Normal Distribution\n"
   ]
  },
  {
   "cell_type": "markdown",
   "metadata": {},
   "source": [
    "Michelle is a statistical consultant, and she works for a group that supports Proposition 68 (which would mandate labeling of all horizontal or vertical axes), called Yes on 68.  They want to know how many Californians will vote for the proposition.\n",
    "\n",
    "Michelle polls a uniform random sample of all California voters, and she finds that 210 of the 400 sampled voters will vote in favor of the proposition."
   ]
  },
  {
   "cell_type": "code",
   "execution_count": 61,
   "metadata": {},
   "outputs": [
    {
     "data": {
      "text/html": [
       "<table border=\"1\" class=\"dataframe\">\n",
       "    <thead>\n",
       "        <tr>\n",
       "            <th>Vote</th> <th>Count</th> <th>Proportion</th>\n",
       "        </tr>\n",
       "    </thead>\n",
       "    <tbody>\n",
       "        <tr>\n",
       "            <td>Yes </td> <td>210  </td> <td>0.525     </td>\n",
       "        </tr>\n",
       "        <tr>\n",
       "            <td>No  </td> <td>190  </td> <td>0.475     </td>\n",
       "        </tr>\n",
       "    </tbody>\n",
       "</table>"
      ],
      "text/plain": [
       "Vote | Count | Proportion\n",
       "Yes  | 210   | 0.525\n",
       "No   | 190   | 0.475"
      ]
     },
     "execution_count": 61,
     "metadata": {},
     "output_type": "execute_result"
    }
   ],
   "source": [
    "sample = Table().with_columns(\n",
    "    \"Vote\",  make_array(\"Yes\", \"No\"),\n",
    "    \"Count\", make_array(210,   190))\n",
    "sample_size = sum(sample.column(\"Count\"))\n",
    "sample_proportions = sample.with_column(\n",
    "    \"Proportion\", sample.column(\"Count\") / sample_size)\n",
    "sample_proportions"
   ]
  },
  {
   "cell_type": "markdown",
   "metadata": {},
   "source": [
    "She uses 10,000 bootstrap resamples to compute a confidence interval for the proportion of all California voters who will vote Yes.  Run the next cell to see the empirical distribution of Yes proportions in the 10,000 resamples."
   ]
  },
  {
   "cell_type": "code",
   "execution_count": 62,
   "metadata": {},
   "outputs": [
    {
     "data": {
      "image/png": "[encoded data removed]",
      "text/plain": [
       "<Figure size 432x288 with 1 Axes>"
      ]
     },
     "metadata": {},
     "output_type": "display_data"
    }
   ],
   "source": [
    "resample_yes_proportions = make_array()\n",
    "for i in np.arange(10000):\n",
    "    resample = proportions_from_distribution(sample_proportions, \"Proportion\", sample_size)\n",
    "    resample_yes_proportions = np.append(resample_yes_proportions, resample.column(\"Random Sample\").item(0))\n",
    "Table().with_column(\"Resample Yes proportion\", resample_yes_proportions).hist(bins=np.arange(.2, .8, .01))"
   ]
  },
  {
   "cell_type": "markdown",
   "metadata": {},
   "source": [
    "<div class=\"hide\">\\pagebreak</div>\n",
    "#### Question 1\n",
    "Explain which distribution the Central Limit Theorem applies to in this story, and why."
   ]
  },
  {
   "cell_type": "markdown",
   "metadata": {
    "manual_problem_id": "polling_1"
   },
   "source": [
    "Normal distribution because of the shape."
   ]
  },
  {
   "cell_type": "markdown",
   "metadata": {},
   "source": [
    "<div class=\"hide\">\\pagebreak</div>\n",
    "In a population whose members are 0 and 1, there is a simple formula for the standard deviation of that population:\n",
    "\n",
    "$$\\texttt{standard deviation} = \\sqrt{(\\text{proportion of 0s}) \\times (\\text{proportion of 1s})}$$\n",
    "\n",
    "(Figuring out this formula, starting from the definition of the standard deviation, is an fun exercise for those who enjoy algebra.)"
   ]
  },
  {
   "cell_type": "markdown",
   "metadata": {},
   "source": [
    "<div class=\"hide\">\\pagebreak</div>\n",
    "#### Question 2\n",
    "Using only the Central Limit Theorem (CLT) and the numbers of Yes and No voters in our sample of 400, compute a number `approximate_sd` that's the predicted standard deviation of the array `resample_yes_proportions` according to the Central Limit Theorem. **Do not access the data in `resample_yes_proportions` in any way.** \n",
    "\n",
    "Remember what the CLT tells us about the standard deviation (SD) of sample means:\n",
    "\n",
    "$\\text{SD of sample means} = \\frac{\\text{population SD}}{\\sqrt{\\text{sample size}}}$\n",
    "\n",
    "Use the sample SD of $\\sqrt{\\frac{210}{400} \\times (1 - \\frac{210}{400})}$ as an approximation to the population SD."
   ]
  },
  {
   "cell_type": "code",
   "execution_count": 67,
   "metadata": {},
   "outputs": [
    {
     "data": {
      "text/plain": [
       "0.024968730444297725"
      ]
     },
     "execution_count": 67,
     "metadata": {},
     "output_type": "execute_result"
    }
   ],
   "source": [
    "approximate_sd =np.sqrt((210/400)*(1-210/400))/pow(400,0.5)\n",
    "approximate_sd"
   ]
  },
  {
   "cell_type": "code",
   "execution_count": 68,
   "metadata": {},
   "outputs": [
    {
     "name": "stdout",
     "output_type": "stream",
     "text": [
      "~~~~~~~~~~~~~~~~~~~~~~~~~~~~~~~~~~~~~~~~~~~~~~~~~~~~~~~~~~~~~~~~~~~~~\n",
      "Running tests\n",
      "\n",
      "---------------------------------------------------------------------\n",
      "Test summary\n",
      "    Passed: 1\n",
      "    Failed: 0\n",
      "[ooooooooook] 100.0% passed\n",
      "\n"
     ]
    }
   ],
   "source": [
    "_ = ok.grade('q4_2')"
   ]
  },
  {
   "cell_type": "markdown",
   "metadata": {},
   "source": [
    "<div class=\"hide\">\\pagebreak</div>\n",
    "#### Question 3\n",
    "Compute the standard deviation of the array `resample_yes_proportions` to verify that your answer to question 2 is approximately right."
   ]
  },
  {
   "cell_type": "code",
   "execution_count": 69,
   "metadata": {},
   "outputs": [
    {
     "data": {
      "text/plain": [
       "0.02505338298513796"
      ]
     },
     "execution_count": 69,
     "metadata": {},
     "output_type": "execute_result"
    }
   ],
   "source": [
    "exact_sd = np.std(resample_yes_proportions)\n",
    "exact_sd"
   ]
  },
  {
   "cell_type": "code",
   "execution_count": 70,
   "metadata": {},
   "outputs": [
    {
     "name": "stdout",
     "output_type": "stream",
     "text": [
      "~~~~~~~~~~~~~~~~~~~~~~~~~~~~~~~~~~~~~~~~~~~~~~~~~~~~~~~~~~~~~~~~~~~~~\n",
      "Running tests\n",
      "\n",
      "---------------------------------------------------------------------\n",
      "Test summary\n",
      "    Passed: 1\n",
      "    Failed: 0\n",
      "[ooooooooook] 100.0% passed\n",
      "\n"
     ]
    }
   ],
   "source": [
    "_ = ok.grade('q4_3')"
   ]
  },
  {
   "cell_type": "markdown",
   "metadata": {},
   "source": [
    "<div class=\"hide\">\\pagebreak</div>\n",
    "#### Question 4\n",
    "**Still without accessing `resample_yes_proportions` in any way**, compute an approximate 95% confidence interval for the proportion of Yes voters in California.\n",
    "\n",
    "The cell below draws your interval as a red bar below the histogram of `resample_yes_proportions`; use that to verify that your answer looks right."
   ]
  },
  {
   "cell_type": "code",
   "execution_count": 74,
   "metadata": {},
   "outputs": [
    {
     "name": "stdout",
     "output_type": "stream",
     "text": [
      "lower: 0.47506253911140456 upper: 0.5749374608885954\n"
     ]
    }
   ],
   "source": [
    "lower_limit = 0.525-approximate_sd*2\n",
    "upper_limit = 0.525+approximate_sd*2\n",
    "print('lower:', lower_limit, 'upper:', upper_limit)"
   ]
  },
  {
   "cell_type": "code",
   "execution_count": 75,
   "metadata": {},
   "outputs": [
    {
     "name": "stdout",
     "output_type": "stream",
     "text": [
      "~~~~~~~~~~~~~~~~~~~~~~~~~~~~~~~~~~~~~~~~~~~~~~~~~~~~~~~~~~~~~~~~~~~~~\n",
      "Running tests\n",
      "\n",
      "---------------------------------------------------------------------\n",
      "Test summary\n",
      "    Passed: 1\n",
      "    Failed: 0\n",
      "[ooooooooook] 100.0% passed\n",
      "\n"
     ]
    }
   ],
   "source": [
    "_ = ok.grade('q4_4')"
   ]
  },
  {
   "cell_type": "code",
   "execution_count": 76,
   "metadata": {},
   "outputs": [
    {
     "data": {
      "image/png": "[encoded data removed]",
      "text/plain": [
       "<Figure size 432x288 with 1 Axes>"
      ]
     },
     "metadata": {},
     "output_type": "display_data"
    }
   ],
   "source": [
    "# Run this cell to plot your confidence interval.\n",
    "Table().with_column(\"Resample Yes proportion\", resample_yes_proportions).hist(bins=np.arange(.2, .8, .01))\n",
    "plots.plot(make_array(lower_limit, upper_limit), make_array(0, 0), c='r', lw=10);"
   ]
  },
  {
   "cell_type": "markdown",
   "metadata": {},
   "source": [
    "<div class=\"hide\">\\pagebreak</div>\n",
    "Your confidence interval should overlap the number 0.5.  That means we can't be very sure whether Proposition 68 is winning, even though the sample Yes proportion is a bit above 0.5.\n",
    "\n",
    "The Yes on 68 campaign really needs to know whether they're winning.  It's impossible to be absolutely sure without polling the whole population, but they'd be okay if the standard deviation of the sample mean were only 0.005.  They ask Michelle to run a new poll with a sample size that's large enough to achieve that.  (Polling is expensive, so the sample also shouldn't be bigger than necessary.)\n",
    "\n",
    "Michelle consults Chapter 12 of your textbook.  Instead of making the conservative assumption that the population standard deviation is 0.5 (coding Yes voters as 1 and No voters as 0), she decides to assume that it's equal to the standard deviation of the sample,\n",
    "\n",
    "$$\\sqrt{(\\text{Yes proportion in the sample}) \\times (\\text{No proportion in the sample})}.$$\n",
    "\n",
    "Under that assumption, Michelle decides that a sample of 9,975 would suffice."
   ]
  },
  {
   "cell_type": "markdown",
   "metadata": {},
   "source": [
    "<div class=\"hide\">\\pagebreak</div>\n",
    "#### Question 5\n",
    "How did Michelle arrive at that answer? Please be clear in your steps/explanations."
   ]
  },
  {
   "cell_type": "markdown",
   "metadata": {
    "manual_problem_id": "polling_5"
   },
   "source": [
    "It is a sample large enough to get a sample mean SD of 0.0049990."
   ]
  },
  {
   "cell_type": "markdown",
   "metadata": {},
   "source": [
    "## 5. Do Diet Drinks Cause Weight Gain?\n"
   ]
  },
  {
   "cell_type": "markdown",
   "metadata": {},
   "source": [
    "[Betteridge's Law](https://en.wikipedia.org/wiki/Betteridge's_law_of_headlines) notwithstanding, this is a serious question and a subject of much recent research.  Though artificially-sweetened diet drinks (like Diet Pepsi or a cup of coffee with sucralose) contain no calories, it is theorized that drinking sweet diet drinks could increase cravings for other sweet food, or that the artificial sweeteners in diet drinks (like aspartame and sucralose) could directly cause weight gain.  [This article](http://www.vox.com/2016/11/28/13764656/diet-soda-metabolism-weight-loss-obesity) summarizes some of the recent research activity.\n",
    "\n",
    "In this exercise we'll use bootstrap confidence intervals to replicate some of the analysis in [this study](http://onlinelibrary.wiley.com/doi/10.1038/oby.2008.284/full).  For simplicity (and because we couldn't get our hands on the data), we'll work with a synthetic dataset, not the dataset used in the actual study.\n",
    "\n",
    "The original dataset is called the San Antonio Heart Study.  It tracks 3,371 people living in San Antonio, Texas, over 7-8 years.  For each person, it records (among many other things) how many diet drinks they reported drinking in a typical week, and the change in the person's Body Mass Index (BMI, a measure of weight adjusted for height) between the start and the end of the 7-8 year period.  A change of 1 in BMI means that the person gained around 4-8 pounds, depending on their height."
   ]
  },
  {
   "cell_type": "code",
   "execution_count": 3,
   "metadata": {},
   "outputs": [
    {
     "data": {
      "text/html": [
       "<table border=\"1\" class=\"dataframe\">\n",
       "    <thead>\n",
       "        <tr>\n",
       "            <th>ID</th> <th>Typical diet drinks per week</th> <th>BMI change</th>\n",
       "        </tr>\n",
       "    </thead>\n",
       "    <tbody>\n",
       "        <tr>\n",
       "            <td>0   </td> <td>6                           </td> <td>-4.40065  </td>\n",
       "        </tr>\n",
       "        <tr>\n",
       "            <td>1   </td> <td>0                           </td> <td>0.952995  </td>\n",
       "        </tr>\n",
       "        <tr>\n",
       "            <td>2   </td> <td>4                           </td> <td>2.71019   </td>\n",
       "        </tr>\n",
       "        <tr>\n",
       "            <td>3   </td> <td>6                           </td> <td>-0.276764 </td>\n",
       "        </tr>\n",
       "        <tr>\n",
       "            <td>4   </td> <td>0                           </td> <td>6.12079   </td>\n",
       "        </tr>\n",
       "        <tr>\n",
       "            <td>5   </td> <td>3                           </td> <td>-0.158611 </td>\n",
       "        </tr>\n",
       "        <tr>\n",
       "            <td>6   </td> <td>0                           </td> <td>-2.94134  </td>\n",
       "        </tr>\n",
       "        <tr>\n",
       "            <td>7   </td> <td>0                           </td> <td>-2.64784  </td>\n",
       "        </tr>\n",
       "        <tr>\n",
       "            <td>8   </td> <td>0                           </td> <td>7.0943    </td>\n",
       "        </tr>\n",
       "        <tr>\n",
       "            <td>9   </td> <td>7                           </td> <td>1.69633   </td>\n",
       "        </tr>\n",
       "    </tbody>\n",
       "</table>\n",
       "<p>... (3361 rows omitted)</p>"
      ],
      "text/plain": [
       "ID   | Typical diet drinks per week | BMI change\n",
       "0    | 6                            | -4.40065\n",
       "1    | 0                            | 0.952995\n",
       "2    | 4                            | 2.71019\n",
       "3    | 6                            | -0.276764\n",
       "4    | 0                            | 6.12079\n",
       "5    | 3                            | -0.158611\n",
       "6    | 0                            | -2.94134\n",
       "7    | 0                            | -2.64784\n",
       "8    | 0                            | 7.0943\n",
       "9    | 7                            | 1.69633\n",
       "... (3361 rows omitted)"
      ]
     },
     "execution_count": 3,
     "metadata": {},
     "output_type": "execute_result"
    }
   ],
   "source": [
    "diet = Table.read_table(\"diet.csv\")\n",
    "diet"
   ]
  },
  {
   "cell_type": "markdown",
   "metadata": {},
   "source": [
    "#### Question 1\n",
    "We will crudely divide people into two categories: those who consume any diet drinks, and those who consume none.  Create a table called `drink_or_not` that's a copy of `diet`, with an extra column called `\"Drink\"`.  It should contain the value `True` for people who drank at least one drink per week and `False` otherwise."
   ]
  },
  {
   "cell_type": "code",
   "execution_count": 4,
   "metadata": {},
   "outputs": [
    {
     "data": {
      "text/html": [
       "<table border=\"1\" class=\"dataframe\">\n",
       "    <thead>\n",
       "        <tr>\n",
       "            <th>ID</th> <th>Typical diet drinks per week</th> <th>BMI change</th> <th>Drink</th>\n",
       "        </tr>\n",
       "    </thead>\n",
       "    <tbody>\n",
       "        <tr>\n",
       "            <td>0   </td> <td>6                           </td> <td>-4.40065  </td> <td>True </td>\n",
       "        </tr>\n",
       "        <tr>\n",
       "            <td>1   </td> <td>0                           </td> <td>0.952995  </td> <td>False</td>\n",
       "        </tr>\n",
       "        <tr>\n",
       "            <td>2   </td> <td>4                           </td> <td>2.71019   </td> <td>True </td>\n",
       "        </tr>\n",
       "        <tr>\n",
       "            <td>3   </td> <td>6                           </td> <td>-0.276764 </td> <td>True </td>\n",
       "        </tr>\n",
       "        <tr>\n",
       "            <td>4   </td> <td>0                           </td> <td>6.12079   </td> <td>False</td>\n",
       "        </tr>\n",
       "        <tr>\n",
       "            <td>5   </td> <td>3                           </td> <td>-0.158611 </td> <td>True </td>\n",
       "        </tr>\n",
       "        <tr>\n",
       "            <td>6   </td> <td>0                           </td> <td>-2.94134  </td> <td>False</td>\n",
       "        </tr>\n",
       "        <tr>\n",
       "            <td>7   </td> <td>0                           </td> <td>-2.64784  </td> <td>False</td>\n",
       "        </tr>\n",
       "        <tr>\n",
       "            <td>8   </td> <td>0                           </td> <td>7.0943    </td> <td>False</td>\n",
       "        </tr>\n",
       "        <tr>\n",
       "            <td>9   </td> <td>7                           </td> <td>1.69633   </td> <td>True </td>\n",
       "        </tr>\n",
       "    </tbody>\n",
       "</table>\n",
       "<p>... (3361 rows omitted)</p>"
      ],
      "text/plain": [
       "ID   | Typical diet drinks per week | BMI change | Drink\n",
       "0    | 6                            | -4.40065   | True\n",
       "1    | 0                            | 0.952995   | False\n",
       "2    | 4                            | 2.71019    | True\n",
       "3    | 6                            | -0.276764  | True\n",
       "4    | 0                            | 6.12079    | False\n",
       "5    | 3                            | -0.158611  | True\n",
       "6    | 0                            | -2.94134   | False\n",
       "7    | 0                            | -2.64784   | False\n",
       "8    | 0                            | 7.0943     | False\n",
       "9    | 7                            | 1.69633    | True\n",
       "... (3361 rows omitted)"
      ]
     },
     "execution_count": 4,
     "metadata": {},
     "output_type": "execute_result"
    }
   ],
   "source": [
    "drink_or_not = diet.with_column(\"Drink\", np.array([(True if person>0 else False) for person in diet.column(\"Typical diet drinks per week\")]))\n",
    "drink_or_not"
   ]
  },
  {
   "cell_type": "markdown",
   "metadata": {},
   "source": [
    "#### Question 2\n",
    "Compute a table called `means` that looks like this, but with the `\"BMI change mean\"` column filled in according to its name:\n",
    "\n",
    "|Drink|BMI change mean|\n",
    "|-|-|\n",
    "|False|?|\n",
    "|True|?|"
   ]
  },
  {
   "cell_type": "code",
   "execution_count": 5,
   "metadata": {},
   "outputs": [
    {
     "data": {
      "text/html": [
       "<table border=\"1\" class=\"dataframe\">\n",
       "    <thead>\n",
       "        <tr>\n",
       "            <th>Drink</th> <th>BMI change mean</th>\n",
       "        </tr>\n",
       "    </thead>\n",
       "    <tbody>\n",
       "        <tr>\n",
       "            <td>False</td> <td>1.01925        </td>\n",
       "        </tr>\n",
       "        <tr>\n",
       "            <td>True </td> <td>1.50449        </td>\n",
       "        </tr>\n",
       "    </tbody>\n",
       "</table>"
      ],
      "text/plain": [
       "Drink | BMI change mean\n",
       "False | 1.01925\n",
       "True  | 1.50449"
      ]
     },
     "execution_count": 5,
     "metadata": {},
     "output_type": "execute_result"
    }
   ],
   "source": [
    "means = drink_or_not.group(\"Drink\", np.mean).select('Drink', 'BMI change mean' )\n",
    "means"
   ]
  },
  {
   "cell_type": "markdown",
   "metadata": {},
   "source": [
    "You should find that diet drinkers have a higher average BMI change - they gained more weight on average.  (The average for both groups is positive because most people gain a little weight as they get older.)"
   ]
  },
  {
   "cell_type": "markdown",
   "metadata": {},
   "source": [
    "#### Question 3\n",
    "Suppose our `diet` table is a random sample from the population of all people who lived during this 7-8 year period.  We want to know whether drinking diet drinks really makes a difference in BMI change.  Formulate appropriate null and alternative hypotheses for an hypothesis test, **or** (if appropriate) explain why no hypothesis test is needed."
   ]
  },
  {
   "cell_type": "markdown",
   "metadata": {
    "for_assignment_type": "student"
   },
   "source": [
    "**Null hypothesis:** There is a significant change in BMI.\n",
    "**Alternative hypothesis:** There isn't a significant change in BMI."
   ]
  },
  {
   "cell_type": "markdown",
   "metadata": {},
   "source": [
    "#### Question 4\n",
    "Test your hypothesis.  Use a method that gives you an idea of *how big* the difference is between the two groups, not just whether there is a difference.  To get the best practice, try to do it without consulting the textbook and without too much trial and error.  If you're having trouble, try breaking the question into smaller steps (i.e. What method are you using? What's the first step to do that? etc.)"
   ]
  },
  {
   "cell_type": "code",
   "execution_count": 17,
   "metadata": {
    "for_assignment_type": "student"
   },
   "outputs": [
    {
     "name": "stdout",
     "output_type": "stream",
     "text": [
      "SD proportion: [0.07175470508188163, 0.25332949117300535]\n"
     ]
    }
   ],
   "source": [
    "# If you use 5,000 bootstrap repetitions, it should take around a\n",
    "# minute.\n",
    "means = make_array()\n",
    "for _ in np.arange(5000):\n",
    "    sample = drink_or_not.select('Drink','BMI change').where('Drink',are.equal_to(True)).sample().column(\"BMI change\")\n",
    "    smean = np.mean(sample)\n",
    "    means = np.append(means, smean)\n",
    "drinking_diet = np.std(means)\n",
    "for _ in np.arange(5000):\n",
    "    sample = drink_or_not.select('Drink','BMI change').where('Drink',are.equal_to(False)).sample().column(\"BMI change\")\n",
    "    smean = np.mean(sample)\n",
    "    means = np.append(means, smean)\n",
    "not_drinking_diet = np.std(means)\n",
    "print(\"SD proportion: [\" + str(drinking_diet) + \", \"+ str(not_drinking_diet) +\"]\")"
   ]
  },
  {
   "cell_type": "markdown",
   "metadata": {},
   "source": [
    "#### Question 5\n",
    "Do you accept or reject your null hypothesis?  Looking at your results, is there strong evidence that there is a big difference between the means of the two groups?"
   ]
  },
  {
   "cell_type": "markdown",
   "metadata": {},
   "source": [
    "We do accept it because of the proportion of drinking diets BMI over not drinking diet."
   ]
  },
  {
   "cell_type": "markdown",
   "metadata": {},
   "source": [
    "The study tracked many pieces of information about each individual.  The authors include the following table in their report, comparing diet-drinkers and non-diet-drinkers on various traits.  The traits were measured at the *start* of the 7-8 year observational period.\n",
    "\n",
    "<img src=\"factors.gif\"/>"
   ]
  },
  {
   "cell_type": "markdown",
   "metadata": {},
   "source": [
    "#### Question 6\n",
    "Using this table, Steve the Scientist makes the following argument:\n",
    "\n",
    "> \"People who drank diet drinks were much more likely (12.1% versus 33.4%) to say they were dieting at the start of the observational period.  So perhaps drinking diet drinks does not directly cause weight gain.  Instead, the association we observed in question 5 could be caused entirely by this confounding factor.\"\n",
    "\n",
    "Is this a valid argument?"
   ]
  },
  {
   "cell_type": "markdown",
   "metadata": {},
   "source": [
    "Not a valid argument."
   ]
  }
 ],
 "metadata": {
  "kernelspec": {
   "display_name": "Python 3",
   "language": "python",
   "name": "python3"
  },
  "language_info": {
   "codemirror_mode": {
    "name": "ipython",
    "version": 3
   },
   "file_extension": ".py",
   "mimetype": "text/x-python",
   "name": "python",
   "nbconvert_exporter": "python",
   "pygments_lexer": "ipython3",
   "version": "3.7.5"
  }
 },
 "nbformat": 4,
 "nbformat_minor": 1
}
